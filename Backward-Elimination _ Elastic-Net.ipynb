{
 "cells": [
  {
   "cell_type": "code",
   "execution_count": 1,
   "metadata": {
    "id": "omqAms8kjkRC"
   },
   "outputs": [],
   "source": [
    "import numpy as np\n",
    "import pandas as pd\n",
    "import datetime\n",
    "import copy\n",
    "from sklearn.preprocessing import StandardScaler\n",
    "\n",
    "import warnings\n",
    "warnings.filterwarnings(\"ignore\")\n",
    "\n",
    "from matplotlib import pyplot as plt\n",
    "from sklearn import linear_model\n",
    "from statsmodels.formula.api import poisson,ols,negativebinomial\n",
    "from sklearn import metrics\n",
    "from sklearn.linear_model import ElasticNet\n",
    "from sklearn.linear_model import Ridge\n",
    "from sklearn.linear_model import Lasso\n",
    "\n",
    "from scipy.special import logsumexp\n",
    "\n",
    "import scipy.special as spsp\n",
    "import scipy.stats as spst\n",
    "\n",
    "from statsmodels.base.model import GenericLikelihoodModel"
   ]
  },
  {
   "cell_type": "code",
   "execution_count": 2,
   "metadata": {
    "id": "ZTuBT1Kjj0L3"
   },
   "outputs": [],
   "source": [
    "#reading the dataframe\n",
    "new_df = pd.read_csv('datewise_data.csv',encoding='latin')"
   ]
  },
  {
   "cell_type": "code",
   "execution_count": 3,
   "metadata": {
    "colab": {
     "base_uri": "https://localhost:8080/",
     "height": 696
    },
    "id": "nbkPJVxXkKud",
    "outputId": "35f9d5ad-aed2-4171-95dd-fbdbf01f6ebc"
   },
   "outputs": [
    {
     "data": {
      "text/html": [
       "<div>\n",
       "<style scoped>\n",
       "    .dataframe tbody tr th:only-of-type {\n",
       "        vertical-align: middle;\n",
       "    }\n",
       "\n",
       "    .dataframe tbody tr th {\n",
       "        vertical-align: top;\n",
       "    }\n",
       "\n",
       "    .dataframe thead th {\n",
       "        text-align: right;\n",
       "    }\n",
       "</style>\n",
       "<table border=\"1\" class=\"dataframe\">\n",
       "  <thead>\n",
       "    <tr style=\"text-align: right;\">\n",
       "      <th></th>\n",
       "      <th>DATE</th>\n",
       "      <th>count</th>\n",
       "      <th>Temperature</th>\n",
       "      <th>Visibility</th>\n",
       "      <th>cloud</th>\n",
       "      <th>humidity</th>\n",
       "      <th>Conditions</th>\n",
       "      <th>DJI</th>\n",
       "      <th>Precipitation</th>\n",
       "      <th>Snow</th>\n",
       "      <th>...</th>\n",
       "      <th>JHI_lag</th>\n",
       "      <th>MPGSX_lag</th>\n",
       "      <th>TJX_lag</th>\n",
       "      <th>TMO_lag</th>\n",
       "      <th>JHI_7_lag</th>\n",
       "      <th>MPGSX_7_lag</th>\n",
       "      <th>TJX_7_lag</th>\n",
       "      <th>TMO_7_lag</th>\n",
       "      <th>BCG_7_lag</th>\n",
       "      <th>t</th>\n",
       "    </tr>\n",
       "  </thead>\n",
       "  <tbody>\n",
       "    <tr>\n",
       "      <th>0</th>\n",
       "      <td>2018-01-01</td>\n",
       "      <td>48</td>\n",
       "      <td>5.6</td>\n",
       "      <td>9.9</td>\n",
       "      <td>15.0</td>\n",
       "      <td>48.02</td>\n",
       "      <td>Clear</td>\n",
       "      <td>24824.01</td>\n",
       "      <td>0.00</td>\n",
       "      <td>0.00</td>\n",
       "      <td>...</td>\n",
       "      <td>NaN</td>\n",
       "      <td>NaN</td>\n",
       "      <td>NaN</td>\n",
       "      <td>NaN</td>\n",
       "      <td>NaN</td>\n",
       "      <td>NaN</td>\n",
       "      <td>NaN</td>\n",
       "      <td>NaN</td>\n",
       "      <td>NaN</td>\n",
       "      <td>0</td>\n",
       "    </tr>\n",
       "    <tr>\n",
       "      <th>1</th>\n",
       "      <td>2018-01-02</td>\n",
       "      <td>13</td>\n",
       "      <td>11.6</td>\n",
       "      <td>9.9</td>\n",
       "      <td>25.6</td>\n",
       "      <td>53.38</td>\n",
       "      <td>Partially cloudy</td>\n",
       "      <td>24824.01</td>\n",
       "      <td>0.00</td>\n",
       "      <td>0.00</td>\n",
       "      <td>...</td>\n",
       "      <td>NaN</td>\n",
       "      <td>NaN</td>\n",
       "      <td>NaN</td>\n",
       "      <td>NaN</td>\n",
       "      <td>NaN</td>\n",
       "      <td>NaN</td>\n",
       "      <td>NaN</td>\n",
       "      <td>NaN</td>\n",
       "      <td>NaN</td>\n",
       "      <td>1</td>\n",
       "    </tr>\n",
       "    <tr>\n",
       "      <th>2</th>\n",
       "      <td>2018-01-03</td>\n",
       "      <td>61</td>\n",
       "      <td>21.8</td>\n",
       "      <td>9.9</td>\n",
       "      <td>53.4</td>\n",
       "      <td>54.99</td>\n",
       "      <td>Partially cloudy</td>\n",
       "      <td>24922.68</td>\n",
       "      <td>0.00</td>\n",
       "      <td>0.00</td>\n",
       "      <td>...</td>\n",
       "      <td>NaN</td>\n",
       "      <td>NaN</td>\n",
       "      <td>NaN</td>\n",
       "      <td>NaN</td>\n",
       "      <td>NaN</td>\n",
       "      <td>NaN</td>\n",
       "      <td>NaN</td>\n",
       "      <td>NaN</td>\n",
       "      <td>NaN</td>\n",
       "      <td>2</td>\n",
       "    </tr>\n",
       "    <tr>\n",
       "      <th>3</th>\n",
       "      <td>2018-01-04</td>\n",
       "      <td>10</td>\n",
       "      <td>25.9</td>\n",
       "      <td>4.5</td>\n",
       "      <td>87.0</td>\n",
       "      <td>78.59</td>\n",
       "      <td>Snow, Overcast</td>\n",
       "      <td>25075.13</td>\n",
       "      <td>0.62</td>\n",
       "      <td>6.67</td>\n",
       "      <td>...</td>\n",
       "      <td>12.898995</td>\n",
       "      <td>8.150966</td>\n",
       "      <td>36.429714</td>\n",
       "      <td>191.056091</td>\n",
       "      <td>NaN</td>\n",
       "      <td>NaN</td>\n",
       "      <td>NaN</td>\n",
       "      <td>NaN</td>\n",
       "      <td>NaN</td>\n",
       "      <td>3</td>\n",
       "    </tr>\n",
       "    <tr>\n",
       "      <th>4</th>\n",
       "      <td>2018-01-05</td>\n",
       "      <td>20</td>\n",
       "      <td>14.2</td>\n",
       "      <td>8.4</td>\n",
       "      <td>57.1</td>\n",
       "      <td>53.83</td>\n",
       "      <td>Snow, Partially cloudy</td>\n",
       "      <td>25295.87</td>\n",
       "      <td>0.00</td>\n",
       "      <td>4.00</td>\n",
       "      <td>...</td>\n",
       "      <td>12.898995</td>\n",
       "      <td>8.150966</td>\n",
       "      <td>36.429714</td>\n",
       "      <td>191.056091</td>\n",
       "      <td>NaN</td>\n",
       "      <td>NaN</td>\n",
       "      <td>NaN</td>\n",
       "      <td>NaN</td>\n",
       "      <td>NaN</td>\n",
       "      <td>4</td>\n",
       "    </tr>\n",
       "    <tr>\n",
       "      <th>...</th>\n",
       "      <td>...</td>\n",
       "      <td>...</td>\n",
       "      <td>...</td>\n",
       "      <td>...</td>\n",
       "      <td>...</td>\n",
       "      <td>...</td>\n",
       "      <td>...</td>\n",
       "      <td>...</td>\n",
       "      <td>...</td>\n",
       "      <td>...</td>\n",
       "      <td>...</td>\n",
       "      <td>...</td>\n",
       "      <td>...</td>\n",
       "      <td>...</td>\n",
       "      <td>...</td>\n",
       "      <td>...</td>\n",
       "      <td>...</td>\n",
       "      <td>...</td>\n",
       "      <td>...</td>\n",
       "      <td>...</td>\n",
       "      <td>...</td>\n",
       "    </tr>\n",
       "    <tr>\n",
       "      <th>1116</th>\n",
       "      <td>2021-10-15</td>\n",
       "      <td>15</td>\n",
       "      <td>64.6</td>\n",
       "      <td>9.9</td>\n",
       "      <td>80.2</td>\n",
       "      <td>88.48</td>\n",
       "      <td>Overcast</td>\n",
       "      <td>35294.76</td>\n",
       "      <td>0.00</td>\n",
       "      <td>0.00</td>\n",
       "      <td>...</td>\n",
       "      <td>18.223978</td>\n",
       "      <td>15.600000</td>\n",
       "      <td>62.735744</td>\n",
       "      <td>575.678223</td>\n",
       "      <td>18.214185</td>\n",
       "      <td>15.657143</td>\n",
       "      <td>63.488650</td>\n",
       "      <td>579.041129</td>\n",
       "      <td>20285.714286</td>\n",
       "      <td>1116</td>\n",
       "    </tr>\n",
       "    <tr>\n",
       "      <th>1117</th>\n",
       "      <td>2021-10-16</td>\n",
       "      <td>12</td>\n",
       "      <td>69.8</td>\n",
       "      <td>9.9</td>\n",
       "      <td>90.5</td>\n",
       "      <td>80.83</td>\n",
       "      <td>Overcast</td>\n",
       "      <td>35258.61</td>\n",
       "      <td>0.00</td>\n",
       "      <td>0.00</td>\n",
       "      <td>...</td>\n",
       "      <td>18.204393</td>\n",
       "      <td>15.700000</td>\n",
       "      <td>63.263775</td>\n",
       "      <td>573.329163</td>\n",
       "      <td>18.235169</td>\n",
       "      <td>15.668571</td>\n",
       "      <td>63.370519</td>\n",
       "      <td>578.749817</td>\n",
       "      <td>20585.714286</td>\n",
       "      <td>1117</td>\n",
       "    </tr>\n",
       "    <tr>\n",
       "      <th>1118</th>\n",
       "      <td>2021-10-17</td>\n",
       "      <td>17</td>\n",
       "      <td>59.3</td>\n",
       "      <td>9.7</td>\n",
       "      <td>57.1</td>\n",
       "      <td>67.35</td>\n",
       "      <td>Rain, Partially cloudy</td>\n",
       "      <td>35258.61</td>\n",
       "      <td>0.33</td>\n",
       "      <td>0.00</td>\n",
       "      <td>...</td>\n",
       "      <td>18.223978</td>\n",
       "      <td>16.000000</td>\n",
       "      <td>63.901390</td>\n",
       "      <td>577.117615</td>\n",
       "      <td>18.232371</td>\n",
       "      <td>15.698571</td>\n",
       "      <td>63.250965</td>\n",
       "      <td>577.870170</td>\n",
       "      <td>20621.428571</td>\n",
       "      <td>1118</td>\n",
       "    </tr>\n",
       "    <tr>\n",
       "      <th>1119</th>\n",
       "      <td>2021-10-18</td>\n",
       "      <td>14</td>\n",
       "      <td>53.9</td>\n",
       "      <td>9.9</td>\n",
       "      <td>61.3</td>\n",
       "      <td>57.28</td>\n",
       "      <td>Partially cloudy</td>\n",
       "      <td>35258.61</td>\n",
       "      <td>0.00</td>\n",
       "      <td>0.00</td>\n",
       "      <td>...</td>\n",
       "      <td>18.184807</td>\n",
       "      <td>16.110001</td>\n",
       "      <td>64.110611</td>\n",
       "      <td>582.155640</td>\n",
       "      <td>18.228174</td>\n",
       "      <td>15.752857</td>\n",
       "      <td>63.195457</td>\n",
       "      <td>577.651690</td>\n",
       "      <td>20657.142857</td>\n",
       "      <td>1119</td>\n",
       "    </tr>\n",
       "    <tr>\n",
       "      <th>1120</th>\n",
       "      <td>2021-10-19</td>\n",
       "      <td>5</td>\n",
       "      <td>53.6</td>\n",
       "      <td>9.9</td>\n",
       "      <td>37.6</td>\n",
       "      <td>53.26</td>\n",
       "      <td>Partially cloudy</td>\n",
       "      <td>35457.31</td>\n",
       "      <td>0.00</td>\n",
       "      <td>0.00</td>\n",
       "      <td>...</td>\n",
       "      <td>18.175014</td>\n",
       "      <td>16.280001</td>\n",
       "      <td>64.399529</td>\n",
       "      <td>587.793396</td>\n",
       "      <td>18.216983</td>\n",
       "      <td>15.847143</td>\n",
       "      <td>63.426024</td>\n",
       "      <td>578.989737</td>\n",
       "      <td>20692.857143</td>\n",
       "      <td>1120</td>\n",
       "    </tr>\n",
       "  </tbody>\n",
       "</table>\n",
       "<p>1121 rows × 57 columns</p>\n",
       "</div>"
      ],
      "text/plain": [
       "            DATE  count  Temperature  Visibility  cloud  humidity  \\\n",
       "0     2018-01-01     48          5.6         9.9   15.0     48.02   \n",
       "1     2018-01-02     13         11.6         9.9   25.6     53.38   \n",
       "2     2018-01-03     61         21.8         9.9   53.4     54.99   \n",
       "3     2018-01-04     10         25.9         4.5   87.0     78.59   \n",
       "4     2018-01-05     20         14.2         8.4   57.1     53.83   \n",
       "...          ...    ...          ...         ...    ...       ...   \n",
       "1116  2021-10-15     15         64.6         9.9   80.2     88.48   \n",
       "1117  2021-10-16     12         69.8         9.9   90.5     80.83   \n",
       "1118  2021-10-17     17         59.3         9.7   57.1     67.35   \n",
       "1119  2021-10-18     14         53.9         9.9   61.3     57.28   \n",
       "1120  2021-10-19      5         53.6         9.9   37.6     53.26   \n",
       "\n",
       "                  Conditions       DJI  Precipitation  Snow  ...    JHI_lag  \\\n",
       "0                      Clear  24824.01           0.00  0.00  ...        NaN   \n",
       "1           Partially cloudy  24824.01           0.00  0.00  ...        NaN   \n",
       "2           Partially cloudy  24922.68           0.00  0.00  ...        NaN   \n",
       "3             Snow, Overcast  25075.13           0.62  6.67  ...  12.898995   \n",
       "4     Snow, Partially cloudy  25295.87           0.00  4.00  ...  12.898995   \n",
       "...                      ...       ...            ...   ...  ...        ...   \n",
       "1116                Overcast  35294.76           0.00  0.00  ...  18.223978   \n",
       "1117                Overcast  35258.61           0.00  0.00  ...  18.204393   \n",
       "1118  Rain, Partially cloudy  35258.61           0.33  0.00  ...  18.223978   \n",
       "1119        Partially cloudy  35258.61           0.00  0.00  ...  18.184807   \n",
       "1120        Partially cloudy  35457.31           0.00  0.00  ...  18.175014   \n",
       "\n",
       "      MPGSX_lag    TJX_lag     TMO_lag  JHI_7_lag  MPGSX_7_lag  TJX_7_lag  \\\n",
       "0           NaN        NaN         NaN        NaN          NaN        NaN   \n",
       "1           NaN        NaN         NaN        NaN          NaN        NaN   \n",
       "2           NaN        NaN         NaN        NaN          NaN        NaN   \n",
       "3      8.150966  36.429714  191.056091        NaN          NaN        NaN   \n",
       "4      8.150966  36.429714  191.056091        NaN          NaN        NaN   \n",
       "...         ...        ...         ...        ...          ...        ...   \n",
       "1116  15.600000  62.735744  575.678223  18.214185    15.657143  63.488650   \n",
       "1117  15.700000  63.263775  573.329163  18.235169    15.668571  63.370519   \n",
       "1118  16.000000  63.901390  577.117615  18.232371    15.698571  63.250965   \n",
       "1119  16.110001  64.110611  582.155640  18.228174    15.752857  63.195457   \n",
       "1120  16.280001  64.399529  587.793396  18.216983    15.847143  63.426024   \n",
       "\n",
       "       TMO_7_lag     BCG_7_lag     t  \n",
       "0            NaN           NaN     0  \n",
       "1            NaN           NaN     1  \n",
       "2            NaN           NaN     2  \n",
       "3            NaN           NaN     3  \n",
       "4            NaN           NaN     4  \n",
       "...          ...           ...   ...  \n",
       "1116  579.041129  20285.714286  1116  \n",
       "1117  578.749817  20585.714286  1117  \n",
       "1118  577.870170  20621.428571  1118  \n",
       "1119  577.651690  20657.142857  1119  \n",
       "1120  578.989737  20692.857143  1120  \n",
       "\n",
       "[1121 rows x 57 columns]"
      ]
     },
     "execution_count": 3,
     "metadata": {},
     "output_type": "execute_result"
    }
   ],
   "source": [
    "new_df"
   ]
  },
  {
   "cell_type": "code",
   "execution_count": 4,
   "metadata": {
    "colab": {
     "base_uri": "https://localhost:8080/"
    },
    "id": "zKlsdj1NkMh0",
    "outputId": "78b522dc-f496-4a0e-f5ca-c431d20d49ef"
   },
   "outputs": [
    {
     "name": "stdout",
     "output_type": "stream",
     "text": [
      "np.log(count)~Temperature+Visibility+cloud+humidity+C(Conditions)+DJI+Precipitation+Snow+snow_depth+wind_speed+C(DAY_OF_WEEK)+WEEKEND+C(DAY_OF_MONTH)+C(MONTH)+UNEMPLOY_RATE+fed_holiday+gov_holiday+nonpub_holiday+reg_holiday+BCG+BSX+EIX+JHI+MPGSX+STT+TJX+TMO+JHI_7+MPGSX_7+TJX_7+TMO_7+BSX_7+EIX_7+STT_7+BCG_7+np.log(count_lag)+t\n"
     ]
    }
   ],
   "source": [
    "#building the OLS model\n",
    "\n",
    "variables = ['Temperature', 'Visibility', 'cloud', 'humidity',\n",
    "       'C(Conditions)', 'DJI', 'Precipitation', 'Snow', 'snow_depth',\n",
    "       'wind_speed', 'C(DAY_OF_WEEK)', 'WEEKEND', 'C(DAY_OF_MONTH)', 'C(MONTH)',\n",
    "       'UNEMPLOY_RATE', 'fed_holiday', 'gov_holiday', 'nonpub_holiday',\n",
    "       'reg_holiday', 'BCG', 'BSX', 'EIX', 'JHI', 'MPGSX', 'STT',\n",
    "       'TJX', 'TMO',\n",
    "       'JHI_7', 'MPGSX_7', 'TJX_7', 'TMO_7',\n",
    "       'BSX_7', 'EIX_7', 'STT_7', 'BCG_7', 'np.log(count_lag)',  't']\n",
    "model = \"np.log(count)~\" +variables[0]\n",
    "for i in range(1,len(variables)):\n",
    "    model=model+\"+\"+variables[i]  \n",
    "print(model)"
   ]
  },
  {
   "cell_type": "code",
   "execution_count": 5,
   "metadata": {
    "id": "w2EndAHmkW4p"
   },
   "outputs": [],
   "source": [
    "#splitting the data into training, validation and testing \n",
    "training = new_df[(new_df['DATE'] >= '2018-01-01') & (new_df['DATE'] <= '2021-08-31')]\n",
    "validation = new_df[(new_df['DATE'] >= '2021-09-01') & (new_df['DATE'] <= '2021-09-18')]\n",
    "testing = new_df[(new_df['DATE'] >= '2021-09-19') & (new_df['DATE'] <= '2021-10-19')]"
   ]
  },
  {
   "cell_type": "code",
   "execution_count": 6,
   "metadata": {
    "id": "J1FFBHLfkYVi"
   },
   "outputs": [],
   "source": [
    "#running the OLS model on the training dataset and predicting on the validation dataset\n",
    "\n",
    "Model = ols(model, training).fit()\n",
    "Pred = Model.predict(validation)"
   ]
  },
  {
   "cell_type": "code",
   "execution_count": 7,
   "metadata": {
    "colab": {
     "base_uri": "https://localhost:8080/"
    },
    "id": "ofhkm97hkadN",
    "outputId": "aa88cd38-0e0d-425e-8c1e-8c52dec29120"
   },
   "outputs": [
    {
     "data": {
      "text/plain": [
       "0.08447001051397962"
      ]
     },
     "execution_count": 7,
     "metadata": {},
     "output_type": "execute_result"
    }
   ],
   "source": [
    "#model with all the variables indcluded and calculating the R2 score\n",
    "\n",
    "Pred = np.exp(Pred)\n",
    "metrics.r2_score(validation['count'],Pred)"
   ]
  },
  {
   "cell_type": "code",
   "execution_count": 8,
   "metadata": {
    "id": "xeiymGV4k5Qw"
   },
   "outputs": [],
   "source": [
    "#backward elimination model\n",
    "\n",
    "def backward_elimination(new_variables):\n",
    "    variables_copy=copy.copy(new_variables)\n",
    "    list_A = []\n",
    "    list_B = []\n",
    "        \n",
    "    for i in range(0,len(new_variables)):\n",
    "        variables_copy = copy.copy(new_variables)\n",
    "        deleted_variable = variables_copy.pop(i)\n",
    "        model = \"np.log(count)~\" +variables_copy[0]\n",
    "        for i in range(1,len(variables_copy)):\n",
    "            model=model+\"+\"+variables_copy[i]\n",
    "        Pred1=ols(model,training).fit().predict(validation)\n",
    "        Pred1=np.exp(Pred1)\n",
    "        list_A.append(deleted_variable)\n",
    "        list_B.append(metrics.r2_score(validation['count'],Pred1))\n",
    "    return list_A[list_B.index(max(list_B))], max(list_B)"
   ]
  },
  {
   "cell_type": "code",
   "execution_count": 9,
   "metadata": {
    "id": "7KnhnYXEk7uA"
   },
   "outputs": [],
   "source": [
    "variables.remove('C(MONTH)')"
   ]
  },
  {
   "cell_type": "code",
   "execution_count": 10,
   "metadata": {
    "colab": {
     "base_uri": "https://localhost:8080/"
    },
    "id": "kHKS9_G3lBE6",
    "outputId": "eeaf0508-59a3-45b7-d627-bb5d724435ed"
   },
   "outputs": [
    {
     "data": {
      "text/plain": [
       "('C(DAY_OF_MONTH)', 0.4786983547873561)"
      ]
     },
     "execution_count": 10,
     "metadata": {},
     "output_type": "execute_result"
    }
   ],
   "source": [
    "backward_elimination(variables)"
   ]
  },
  {
   "cell_type": "code",
   "execution_count": 11,
   "metadata": {
    "colab": {
     "base_uri": "https://localhost:8080/"
    },
    "id": "fSfEvL7llDE-",
    "outputId": "0f2efec0-1d9e-49c6-9440-646a24f1bb3b"
   },
   "outputs": [
    {
     "data": {
      "text/plain": [
       "True"
      ]
     },
     "execution_count": 11,
     "metadata": {},
     "output_type": "execute_result"
    }
   ],
   "source": [
    "backward_elimination(variables)[1] >  0.4002813292735917"
   ]
  },
  {
   "cell_type": "markdown",
   "metadata": {
    "id": "fpH9xjf6lKkO"
   },
   "source": [
    "**Final model variables after running the model multiple times and the calculated R2 score\n",
    "\n",
    "['cloud',\n",
    " 'humidity',\n",
    " 'DJI',\n",
    " 'Precipitation',\n",
    " 'WEEKEND',\n",
    " 'UNEMPLOY_RATE',\n",
    " 'gov_holiday',\n",
    " 'BSX',\n",
    " 'EIX',\n",
    " 'JHI',\n",
    " 'MPGSX',\n",
    " 'STT',\n",
    " 'TJX',\n",
    " 'TJX_7',\n",
    " 'TMO_7',\n",
    " 'BSX_7',\n",
    " 'EIX_7',\n",
    " 'BCG_7',\n",
    " 'np.log(count_lag)',\n",
    " 't', 'gov_holiday'] ,  R2 SCORE : 0.6339107788822724**"
   ]
  },
  {
   "cell_type": "markdown",
   "metadata": {
    "id": "kEP13SW4lM4f"
   },
   "source": [
    "**ELASTIC NET**"
   ]
  },
  {
   "cell_type": "code",
   "execution_count": 12,
   "metadata": {
    "id": "UbuGmLT1lFzV"
   },
   "outputs": [],
   "source": [
    "#dropping the null values to run the elastic net model\n",
    "new_df = new_df.dropna()"
   ]
  },
  {
   "cell_type": "code",
   "execution_count": 13,
   "metadata": {
    "id": "ino5fGbLlRRz"
   },
   "outputs": [],
   "source": [
    "new_df['count'] = new_df['count'].astype('int64')"
   ]
  },
  {
   "cell_type": "code",
   "execution_count": 14,
   "metadata": {
    "id": "UIeMEytslSzo"
   },
   "outputs": [],
   "source": [
    "#creating dummy variables for categorical variables\n",
    "Dummy1=pd.get_dummies(new_df.Conditions,prefix=\"CoN\",prefix_sep=\"\",drop_first=True)\n",
    "Dummy2=pd.get_dummies(new_df.DAY_OF_WEEK,prefix=\"DoW\",prefix_sep=\"\",drop_first=True)\n",
    "Dummy3=pd.get_dummies(new_df.DAY_OF_MONTH,prefix=\"DoM\",prefix_sep=\"\",drop_first=True)\n",
    "Dummy4=pd.get_dummies(new_df.MONTH,prefix=\"M\",prefix_sep=\"\",drop_first=True)\n",
    "new_df=pd.concat([new_df,Dummy1,Dummy2,Dummy3,Dummy4],axis=1)"
   ]
  },
  {
   "cell_type": "code",
   "execution_count": 15,
   "metadata": {
    "id": "51r9Udj5lVxr"
   },
   "outputs": [],
   "source": [
    "new_df=new_df.assign(count_lag_log=lambda x: np.log(x.count_lag))"
   ]
  },
  {
   "cell_type": "code",
   "execution_count": 16,
   "metadata": {
    "id": "KwXbS0xplXo0"
   },
   "outputs": [],
   "source": [
    "df1 = pd.DataFrame(np.log(new_df['count']))"
   ]
  },
  {
   "cell_type": "code",
   "execution_count": 17,
   "metadata": {
    "id": "u97KqyBylZDc"
   },
   "outputs": [],
   "source": [
    "df1.rename(columns={'count':'count_log'}, inplace=True)"
   ]
  },
  {
   "cell_type": "code",
   "execution_count": 18,
   "metadata": {
    "id": "6bCl_UHDlabR"
   },
   "outputs": [],
   "source": [
    "new_df = pd.concat([new_df, df1], axis=1)"
   ]
  },
  {
   "cell_type": "code",
   "execution_count": 19,
   "metadata": {
    "id": "wZiLOi9_lcK6"
   },
   "outputs": [],
   "source": [
    "new_df.drop(['count', 'count_lag', 'Conditions', 'race_label', 'Conditions_lag'], axis = 1, inplace = True)"
   ]
  },
  {
   "cell_type": "code",
   "execution_count": 20,
   "metadata": {
    "id": "tPnO__4tldwa"
   },
   "outputs": [],
   "source": [
    "training = new_df[(new_df['DATE'] >= '2018-01-01') & (new_df['DATE'] <= '2021-08-31')]\n",
    "validation = new_df[(new_df['DATE'] >= '2021-09-01') & (new_df['DATE'] <= '2021-09-18')]\n",
    "testing = new_df[(new_df['DATE'] >= '2021-09-19') & (new_df['DATE'] <= '2021-10-19')]"
   ]
  },
  {
   "cell_type": "code",
   "execution_count": 21,
   "metadata": {
    "id": "jzV8imEnlqaZ"
   },
   "outputs": [],
   "source": [
    "training.drop(['DATE'], axis=1, inplace=True)\n",
    "validation.drop(['DATE'], axis=1, inplace=True)\n",
    "testing.drop(['DATE'], axis=1, inplace=True)"
   ]
  },
  {
   "cell_type": "code",
   "execution_count": 22,
   "metadata": {
    "id": "dYI_SrENluAm"
   },
   "outputs": [],
   "source": [
    "#standardizing the independent variables\n",
    "SSmodel=StandardScaler()\n",
    "SSmodel.fit(training.iloc[:,:-1])\n",
    "Train_x=SSmodel.transform(training.iloc[:,:-1])"
   ]
  },
  {
   "cell_type": "code",
   "execution_count": 23,
   "metadata": {
    "id": "5yNTLJmolwFH"
   },
   "outputs": [],
   "source": [
    "Valid_x=SSmodel.transform(validation.iloc[:,:-1])"
   ]
  },
  {
   "cell_type": "code",
   "execution_count": 24,
   "metadata": {
    "id": "p2Q8IZ6Kl101"
   },
   "outputs": [],
   "source": [
    "def R2_new(Actual, Pred):\n",
    "    Error=np.sum((Actual - Pred)**2)/np.sum((Actual - Actual.mean())**2)\n",
    "    return (1- Error)"
   ]
  },
  {
   "cell_type": "code",
   "execution_count": 33,
   "metadata": {
    "id": "8eiWBHjCl2OR"
   },
   "outputs": [],
   "source": [
    "#running the elastic net model\n",
    "alpha_value=[]\n",
    "number_of_independent_variables=[]\n",
    "R2_score=[]\n",
    "for i in np.arange(0.001,0.05,0.0005):\n",
    "    ENmodel=ElasticNet(alpha=i, l1_ratio=0.1, fit_intercept=False)\n",
    "    ENmodel.fit(Train_x, training.count_log.values-np.mean(training.count_log.values))\n",
    "    filtered = list(filter(lambda coefficent: coefficent != 0, ENmodel.coef_))\n",
    "    number_of_independent_variables.append(len(filtered))\n",
    "    alpha_value.append(i)\n",
    "    predict_log=ENmodel.predict(Valid_x)+np.mean(training.count_log.values)\n",
    "    R2_score.append(R2_new(np.exp(validation.count_log.values), np.exp(predict_log)))"
   ]
  },
  {
   "cell_type": "code",
   "execution_count": 34,
   "metadata": {
    "colab": {
     "base_uri": "https://localhost:8080/",
     "height": 606
    },
    "id": "tpChsIlel4Q6",
    "outputId": "b6f7d881-98ba-4c25-bb4a-6480ead7bee2"
   },
   "outputs": [
    {
     "data": {
      "image/png": "[encoded data removed]",
      "text/plain": [
       "<Figure size 1080x720 with 2 Axes>"
      ]
     },
     "metadata": {
      "needs_background": "light"
     },
     "output_type": "display_data"
    }
   ],
   "source": [
    "plt.figure(figsize=(15,10))\n",
    "plt.subplot(1,2,1)\n",
    "plt.plot(alpha_value, number_of_independent_variables)\n",
    "plt.xlabel('Alpha Value')\n",
    "plt.ylabel('Independent Variable')\n",
    "plt.subplot(1,2,2)\n",
    "plt.plot(alpha_value, R2_score)\n",
    "plt.xlabel('Alpha Value')\n",
    "plt.ylabel('R2_score')\n",
    "plt.show()"
   ]
  },
  {
   "cell_type": "code",
   "execution_count": 35,
   "metadata": {
    "colab": {
     "base_uri": "https://localhost:8080/"
    },
    "id": "W0pAy5s_l-lM",
    "outputId": "c6622a6a-1b1e-436c-815a-b2fe83f26689"
   },
   "outputs": [
    {
     "data": {
      "text/plain": [
       "(0.0495, 0.3535177785986726)"
      ]
     },
     "execution_count": 35,
     "metadata": {},
     "output_type": "execute_result"
    }
   ],
   "source": [
    "alpha_value[R2_score.index(max(R2_score))],R2_score[R2_score.index(max(R2_score))]"
   ]
  },
  {
   "cell_type": "code",
   "execution_count": 36,
   "metadata": {
    "colab": {
     "base_uri": "https://localhost:8080/"
    },
    "id": "-Cdnr1JMmUsv",
    "outputId": "583893e9-dec4-46e3-e451-18e98d809a2c"
   },
   "outputs": [
    {
     "data": {
      "text/plain": [
       "66"
      ]
     },
     "execution_count": 36,
     "metadata": {},
     "output_type": "execute_result"
    }
   ],
   "source": [
    "number_of_independent_variables[R2_score.index(max(R2_score))]"
   ]
  },
  {
   "cell_type": "code",
   "execution_count": null,
   "metadata": {
    "id": "z-8cftVAmWn6"
   },
   "outputs": [],
   "source": []
  }
 ],
 "metadata": {
  "colab": {
   "collapsed_sections": [],
   "name": "Backward_Elimination_Elastic_Net.ipynb",
   "provenance": []
  },
  "kernelspec": {
   "display_name": "Python 3",
   "language": "python",
   "name": "python3"
  },
  "language_info": {
   "codemirror_mode": {
    "name": "ipython",
    "version": 3
   },
   "file_extension": ".py",
   "mimetype": "text/x-python",
   "name": "python",
   "nbconvert_exporter": "python",
   "pygments_lexer": "ipython3",
   "version": "3.8.8"
  }
 },
 "nbformat": 4,
 "nbformat_minor": 1
}
